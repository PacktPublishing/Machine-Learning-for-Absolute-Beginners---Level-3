{
 "cells": [
  {
   "cell_type": "markdown",
   "metadata": {},
   "source": [
    "## <b> Course: Machine Learning for Absolute Beginners - Level 3\n",
    "#### By: Idan Gabrieli\n",
    "#### <p style=\"color:DodgerBlue;\">Exercise: 1 - Ranking and Proportion Charts</p>\n",
    "*****************************"
   ]
  },
  {
   "cell_type": "markdown",
   "metadata": {},
   "source": [
    "### Step 1 - Bar Chart\n",
    "Import matplotlib and seaborn libraries. Load the \"flights\" dataset from the Seaborn online respository. Print the first ten rows from the dataframe. "
   ]
  },
  {
   "cell_type": "code",
   "execution_count": null,
   "metadata": {},
   "outputs": [],
   "source": []
  },
  {
   "cell_type": "markdown",
   "metadata": {},
   "source": [
    "Aggregate the sum of all passengers for each year and store the result in a new dataframe called \"flights_years\" (tip - use the groupby method in pandas combined with the sum aggregation function). Print the first rows of the new dataframe. Each year should be one row in the new data frame."
   ]
  },
  {
   "cell_type": "code",
   "execution_count": null,
   "metadata": {},
   "outputs": [],
   "source": []
  },
  {
   "cell_type": "markdown",
   "metadata": {},
   "source": [
    "Using Matplotlib, create a Bar Chart with the 'year' as the x-axis and 'passengers' as the y-axis. Add labels for each axis ('Year', 'Number of passengers') and add a title to the chart ('Passengers Summary'). Tip - For the x-axis use the index attribute of the flights_years dataframe."
   ]
  },
  {
   "cell_type": "code",
   "execution_count": null,
   "metadata": {},
   "outputs": [],
   "source": []
  },
  {
   "cell_type": "markdown",
   "metadata": {},
   "source": [
    "Create the same Bar chart but this time adjust the x-axis to display all years in the data frame as ticks (tip - use the set_xticks function and the index attribute in the data frame). "
   ]
  },
  {
   "cell_type": "code",
   "execution_count": null,
   "metadata": {},
   "outputs": [],
   "source": []
  },
  {
   "cell_type": "markdown",
   "metadata": {},
   "source": [
    "Using Matplotli, create a Bar Chart with only years between 1949 and 1952. (tip - use the slice notation we learned in Level 2 to filter rows in a dataframe, store the result in a new data frame called 'filtered_df'). Add a specific color for each year (tip - use the color argument and provide a list of colors)."
   ]
  },
  {
   "cell_type": "code",
   "execution_count": null,
   "metadata": {},
   "outputs": [],
   "source": []
  },
  {
   "cell_type": "markdown",
   "metadata": {},
   "source": [
    "Using Matplotlib, create a Bar Chart with the 'passengers' as the x-axis and 'year' as the y-axis (tip - use horizontal bar chart). "
   ]
  },
  {
   "cell_type": "code",
   "execution_count": null,
   "metadata": {},
   "outputs": [],
   "source": []
  },
  {
   "cell_type": "markdown",
   "metadata": {},
   "source": [
    "Using Seaborn, create a Bar chart with the 'year' as the x-axis and 'passengers' as the y-axis. "
   ]
  },
  {
   "cell_type": "code",
   "execution_count": null,
   "metadata": {},
   "outputs": [],
   "source": []
  },
  {
   "cell_type": "markdown",
   "metadata": {},
   "source": [
    "Create the same chart in Seaborm while using the \"Greens\" color palette. But this time invert the x-axis (tip - use the invert_xaxis). "
   ]
  },
  {
   "cell_type": "code",
   "execution_count": null,
   "metadata": {},
   "outputs": [],
   "source": []
  },
  {
   "cell_type": "markdown",
   "metadata": {},
   "source": [
    "*****************************\n",
    "### Step 2 - Lollipop Chart"
   ]
  },
  {
   "cell_type": "markdown",
   "metadata": {},
   "source": [
    "Using Matplotli, create a Lollipop Chart with the 'year' as the x-axis and 'passengers' as the y-axis. As a marker use '^' with the color 'red'. Set the stemline color to be 'black'. "
   ]
  },
  {
   "cell_type": "code",
   "execution_count": null,
   "metadata": {},
   "outputs": [],
   "source": []
  },
  {
   "cell_type": "markdown",
   "metadata": {},
   "source": [
    "*****************************\n",
    "### Step 3 - Grouped Bar Chart"
   ]
  },
  {
   "cell_type": "markdown",
   "metadata": {},
   "source": [
    "Upload the 'titanic' dataset from the Seaborn online repository. Print the first ten rows in the data frame. Identify the 'sex', 'class' categorical variables and 'survived' as the numeric variable. "
   ]
  },
  {
   "cell_type": "code",
   "execution_count": null,
   "metadata": {},
   "outputs": [],
   "source": []
  },
  {
   "cell_type": "markdown",
   "metadata": {},
   "source": [
    "Using Seaborn, create a grouped bar chart. The first categorical variable should be 'class' as the baseline of the x-axis. The second categorical variable should be 'sex'. The numerical 'survived' should be the y-axis. Keep in mind that the 'survived' y-axis must be calculated by Seaborn using sum aggregation (default is mean)."
   ]
  },
  {
   "cell_type": "code",
   "execution_count": null,
   "metadata": {},
   "outputs": [],
   "source": []
  },
  {
   "cell_type": "markdown",
   "metadata": {},
   "source": [
    "*****************************\n",
    "### Step 4 - Pie Chart"
   ]
  },
  {
   "cell_type": "markdown",
   "metadata": {},
   "source": [
    "Using the titanic dataset, create a variables called \"slices1\" with the number of survived passengers per each sex value (tip - use the groupby method, the result should be a Pandas Series object with a single column)."
   ]
  },
  {
   "cell_type": "code",
   "execution_count": null,
   "metadata": {},
   "outputs": [],
   "source": []
  },
  {
   "cell_type": "markdown",
   "metadata": {},
   "source": [
    "Using the titanic dataset, create a variables called \"slices2\" with the number of survived passengers per each class value (tip - use the groupby method, the result should be a Pandas Series object with a single column)."
   ]
  },
  {
   "cell_type": "code",
   "execution_count": null,
   "metadata": {},
   "outputs": [],
   "source": []
  },
  {
   "cell_type": "markdown",
   "metadata": {},
   "source": [
    "Create a variable called \"label1\" with the list of the unique values in in the 'sex' variable (tip - use the index attribute of the \"slices\" object you just created). Create a variable called \"label2\" with the list of the unique values in in the 'class' variable."
   ]
  },
  {
   "cell_type": "code",
   "execution_count": null,
   "metadata": {},
   "outputs": [],
   "source": []
  },
  {
   "cell_type": "markdown",
   "metadata": {},
   "source": [
    "Create a list variable called \"mycolors1\" and pick two colors from a color picker tool (tip - search in google \"color picker\" and then copy paste the hex code for the selected color). Create a list variable called \"mycolors2\" and pick three colors."
   ]
  },
  {
   "cell_type": "code",
   "execution_count": null,
   "metadata": {},
   "outputs": [],
   "source": []
  },
  {
   "cell_type": "markdown",
   "metadata": {},
   "source": [
    "Create two pie charts side by side using the variables you created : pie one - slices1, lables1, mycolors1, pie two - slices2, lables2, mycolors2. Add a lengend and a title for each pie chart."
   ]
  },
  {
   "cell_type": "code",
   "execution_count": null,
   "metadata": {},
   "outputs": [],
   "source": []
  },
  {
   "cell_type": "markdown",
   "metadata": {},
   "source": [
    "*****************************\n",
    "### Step 5 - Treemap Chart"
   ]
  },
  {
   "cell_type": "markdown",
   "metadata": {},
   "source": [
    "Please make sure the \"squarify\" library is installed in your environment:\n",
    "1. Anaconda Navigator --> Selecting Environment --> clicking on base(root) --> open terminal\n",
    "2. type and run: \"conda install -c conda-forge squarify\""
   ]
  },
  {
   "cell_type": "markdown",
   "metadata": {},
   "source": [
    "Import the squarify library and pandas library."
   ]
  },
  {
   "cell_type": "code",
   "execution_count": null,
   "metadata": {},
   "outputs": [],
   "source": []
  },
  {
   "cell_type": "markdown",
   "metadata": {},
   "source": [
    "Copy the provided csv file called \"global_power_plant_database.csv\" into your working directory is the JupyterLab tool (you can use the \"upload files\" option in the navigator bar on the left upper side).\n",
    "Use Pandas to load the csv file into a dataframe object called 'power_plants'. Print the first rows on the dataframe. (tip - use the read_csv function in pandas)."
   ]
  },
  {
   "cell_type": "code",
   "execution_count": null,
   "metadata": {},
   "outputs": [],
   "source": []
  },
  {
   "cell_type": "markdown",
   "metadata": {},
   "source": [
    "Identify the index locations of three columns: 'country', 'name' and 'capacity_mw' and then reload the dataset again with only those threed columns (tip - use the usecols parameter). Print the first five rows. This is a list of power planets worldwide with their electricity production in mege-watts. The first column is a short alias for the country."
   ]
  },
  {
   "cell_type": "code",
   "execution_count": null,
   "metadata": {},
   "outputs": [],
   "source": []
  },
  {
   "cell_type": "markdown",
   "metadata": {},
   "source": [
    "Create a new dataframe called 'power_per_country', that will aggregate per each country the total capacity of all power planets and then sort the values in the new dataframe in ascending order."
   ]
  },
  {
   "cell_type": "code",
   "execution_count": null,
   "metadata": {},
   "outputs": [],
   "source": []
  },
  {
   "cell_type": "markdown",
   "metadata": {},
   "source": [
    "Create a new dataframe called 'top30' with only the top 30 power producer (tip - use the slice notation)."
   ]
  },
  {
   "cell_type": "code",
   "execution_count": null,
   "metadata": {},
   "outputs": [],
   "source": []
  },
  {
   "cell_type": "markdown",
   "metadata": {},
   "source": [
    "Create a treemap with the top 30 power producers counteries. Adjust the figure size to be (20,10). Turn off the axis (tip - use the axis function)."
   ]
  },
  {
   "cell_type": "code",
   "execution_count": null,
   "metadata": {},
   "outputs": [],
   "source": []
  },
  {
   "cell_type": "markdown",
   "metadata": {},
   "source": [
    "************************\n",
    "### Congratulations!!! you completed exercise 1. \n",
    "## End of document\n",
    "************************"
   ]
  },
  {
   "cell_type": "code",
   "execution_count": null,
   "metadata": {},
   "outputs": [],
   "source": []
  }
 ],
 "metadata": {
  "kernelspec": {
   "display_name": "Python 3",
   "language": "python",
   "name": "python3"
  },
  "language_info": {
   "codemirror_mode": {
    "name": "ipython",
    "version": 3
   },
   "file_extension": ".py",
   "mimetype": "text/x-python",
   "name": "python",
   "nbconvert_exporter": "python",
   "pygments_lexer": "ipython3",
   "version": "3.7.6"
  }
 },
 "nbformat": 4,
 "nbformat_minor": 4
}
