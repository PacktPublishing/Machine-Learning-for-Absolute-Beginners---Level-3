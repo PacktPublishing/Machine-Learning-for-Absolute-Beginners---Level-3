{
 "cells": [
  {
   "cell_type": "markdown",
   "metadata": {},
   "source": [
    "## <b> Course: Machine Learning for Absolute Beginners - Level 3\n",
    "#### By: Idan Gabrieli\n",
    "#### <p style=\"color:DodgerBlue;\">Exercise: 2 - Trend and Distribution Charts</p>\n",
    "*****************************"
   ]
  },
  {
   "cell_type": "markdown",
   "metadata": {},
   "source": [
    "### Step 1 - Line Chart and Area Chart"
   ]
  },
  {
   "cell_type": "markdown",
   "metadata": {},
   "source": [
    "Import matplotlib, seaborn and pandas libraries. "
   ]
  },
  {
   "cell_type": "code",
   "execution_count": null,
   "metadata": {},
   "outputs": [],
   "source": []
  },
  {
   "cell_type": "markdown",
   "metadata": {},
   "source": [
    "Copy the provided csv file called \"weatherAUS.csv\" into your working directory is the JupyterLab tool (you can use the \"upload files\" option in the navigator bar on the left upper side).\n",
    "Use Pandas to load the csv file into a dataframe object called 'weatherAUS' with the parse_dates parameter. Print the first rows on the dataframe."
   ]
  },
  {
   "cell_type": "markdown",
   "metadata": {},
   "source": [
    "Syntax : weatherAUS = pd.read_csv('weatherAUS.csv', parse_dates=['Date'])"
   ]
  },
  {
   "cell_type": "code",
   "execution_count": null,
   "metadata": {},
   "outputs": [],
   "source": []
  },
  {
   "cell_type": "code",
   "execution_count": null,
   "metadata": {},
   "outputs": [],
   "source": []
  },
  {
   "cell_type": "markdown",
   "metadata": {},
   "source": [
    "Print the shape of the dataframe."
   ]
  },
  {
   "cell_type": "code",
   "execution_count": null,
   "metadata": {},
   "outputs": [],
   "source": []
  },
  {
   "cell_type": "markdown",
   "metadata": {},
   "source": [
    "Print detailed information about the columns of the dataframe using the info() function."
   ]
  },
  {
   "cell_type": "code",
   "execution_count": null,
   "metadata": {},
   "outputs": [],
   "source": []
  },
  {
   "cell_type": "markdown",
   "metadata": {},
   "source": [
    "Run the following lines in order to parse the 'Date' column into 'year', 'month', 'day columns:\n",
    "\n",
    "weatherAUS['Year']=weatherAUS['Date'].dt.year\n",
    "\n",
    "weatherAUS['Month']=weatherAUS['Date'].dt.month\n",
    "\n",
    "weatherAUS['Day']=weatherAUS['Date'].dt.day\n",
    "\n",
    "weatherAUS.head()"
   ]
  },
  {
   "cell_type": "code",
   "execution_count": null,
   "metadata": {},
   "outputs": [],
   "source": []
  },
  {
   "cell_type": "markdown",
   "metadata": {},
   "source": [
    "Create a new dataframe called \"df1\" while filtering the rows using the following conditions:\n",
    "\n",
    "'Location'=='Albury'\n",
    "\n",
    "'Year'==2008\n",
    "\n",
    "'Month']==12"
   ]
  },
  {
   "cell_type": "code",
   "execution_count": null,
   "metadata": {},
   "outputs": [],
   "source": []
  },
  {
   "cell_type": "markdown",
   "metadata": {},
   "source": [
    "Create a new dataframe called \"df2\" while filtering the rows using the following conditions:\n",
    "\n",
    "'Location'=='Albury'\n",
    "\n",
    "'Year'==2009\n",
    "\n",
    "'Month']==1"
   ]
  },
  {
   "cell_type": "code",
   "execution_count": null,
   "metadata": {},
   "outputs": [],
   "source": []
  },
  {
   "cell_type": "markdown",
   "metadata": {},
   "source": [
    "Create two lines on the same chart. One line with the data in \"df1\" and the second line with the data in the \"df2\" . The X-axis will be the 'Day' and the Y-axis will be 'MinTemp'."
   ]
  },
  {
   "cell_type": "code",
   "execution_count": null,
   "metadata": {},
   "outputs": [],
   "source": []
  },
  {
   "cell_type": "markdown",
   "metadata": {},
   "source": [
    "Create a new dataframe called \"df3\" while filtering the rows using the following conditions:\n",
    "\n",
    "'Location'=='Albury'\n",
    "\n",
    "'Year'==2009"
   ]
  },
  {
   "cell_type": "code",
   "execution_count": null,
   "metadata": {},
   "outputs": [],
   "source": []
  },
  {
   "cell_type": "markdown",
   "metadata": {},
   "source": [
    "Aggregate all rows in \"df3\" using the 'Month' column while using the mean() aggregation function. Save the result in \"df4\"."
   ]
  },
  {
   "cell_type": "code",
   "execution_count": null,
   "metadata": {},
   "outputs": [],
   "source": []
  },
  {
   "cell_type": "markdown",
   "metadata": {},
   "source": [
    "Create a line chart of the average MinTemp Per Month on 2009 is \"Albury\"."
   ]
  },
  {
   "cell_type": "code",
   "execution_count": null,
   "metadata": {},
   "outputs": [],
   "source": []
  },
  {
   "cell_type": "markdown",
   "metadata": {},
   "source": [
    "Create an area chart using the same data as the above line chart (tip - use the fill_between function)."
   ]
  },
  {
   "cell_type": "code",
   "execution_count": null,
   "metadata": {},
   "outputs": [],
   "source": []
  },
  {
   "cell_type": "markdown",
   "metadata": {},
   "source": [
    "*****************************\n",
    "### Step 2 - Histogram Chart"
   ]
  },
  {
   "cell_type": "markdown",
   "metadata": {},
   "source": [
    "Load the \"heart.csv\" dataset. Print the first five rows. Every row represents the medical heart health details of one person."
   ]
  },
  {
   "cell_type": "code",
   "execution_count": null,
   "metadata": {},
   "outputs": [],
   "source": []
  },
  {
   "cell_type": "markdown",
   "metadata": {},
   "source": [
    "Run the info() function on the dataframe. There are 1025 rows and there are no missing values."
   ]
  },
  {
   "cell_type": "code",
   "execution_count": null,
   "metadata": {},
   "outputs": [],
   "source": []
  },
  {
   "cell_type": "markdown",
   "metadata": {},
   "source": [
    "Replace the columns names in the dataframe with the following labels:\n",
    "\n",
    "\n",
    "['Age', 'Gender', 'ChestPain', 'RestingBloodPressure', 'Cholestrol', 'FastingBloodSugar', 'RestingECG', 'MaxHeartRateAchivied',\n",
    "       'ExerciseIndusedAngina', 'Oldpeak', 'Slope', 'MajorVessels', 'Thalassemia', 'Target']"
   ]
  },
  {
   "cell_type": "code",
   "execution_count": null,
   "metadata": {},
   "outputs": [],
   "source": []
  },
  {
   "cell_type": "markdown",
   "metadata": {},
   "source": [
    "Print the number of unique entries in each column (tip - use the nunique function). Using this information we can identify categorical variables, such as: 'Gender', 'ChestPain' etc."
   ]
  },
  {
   "cell_type": "code",
   "execution_count": null,
   "metadata": {},
   "outputs": [],
   "source": []
  },
  {
   "cell_type": "markdown",
   "metadata": {},
   "source": [
    "Using Matplotib, create a histogram chart with 5 bins for analyzing the distribution of the data in the \"Age\" column+. "
   ]
  },
  {
   "cell_type": "code",
   "execution_count": null,
   "metadata": {},
   "outputs": [],
   "source": []
  },
  {
   "cell_type": "markdown",
   "metadata": {},
   "source": [
    "Now change the bin to 10."
   ]
  },
  {
   "cell_type": "code",
   "execution_count": null,
   "metadata": {},
   "outputs": [],
   "source": []
  },
  {
   "cell_type": "markdown",
   "metadata": {},
   "source": [
    "*****************************\n",
    "### Step 3 - Density Curve Chart"
   ]
  },
  {
   "cell_type": "markdown",
   "metadata": {},
   "source": [
    "Using Seaborn, create a Density curve chart for analyzing the distribution of the \"Age\" column (tip - use the kdeplot function)."
   ]
  },
  {
   "cell_type": "code",
   "execution_count": null,
   "metadata": {},
   "outputs": [],
   "source": []
  },
  {
   "cell_type": "markdown",
   "metadata": {},
   "source": [
    "*****************************\n",
    "### Step 4 - Box-and-Whisker Chart"
   ]
  },
  {
   "cell_type": "markdown",
   "metadata": {},
   "source": [
    "Replace the numerical values in the \"ChestPain\" columns based on the following mapping:\n",
    "\n",
    "0:'Typical Angina', 1:'Atypical Angina', 2:'Non-Anginal', 3:'Asymptomatic'\n",
    "\n",
    "(tip - create an empty list, use the map function to fill that list, convert the list of a Series object and store the result in the \"ChestPain\" column)."
   ]
  },
  {
   "cell_type": "code",
   "execution_count": null,
   "metadata": {},
   "outputs": [],
   "source": []
  },
  {
   "cell_type": "markdown",
   "metadata": {},
   "source": [
    "Using Seaborn, create a Box-and-Whisker chart. Use the \"ChestPain\" for the x-axis and \"Age\" for the y-axis. We will be able to see the distribution age of the four groups in the ChestPain column. "
   ]
  },
  {
   "cell_type": "code",
   "execution_count": null,
   "metadata": {},
   "outputs": [],
   "source": []
  },
  {
   "cell_type": "markdown",
   "metadata": {},
   "source": [
    "Create the same Box-and-Whisker chart but this time add the \"Gender\" as the second categorical variable (tip - use the \"hue\" parameter)."
   ]
  },
  {
   "cell_type": "code",
   "execution_count": null,
   "metadata": {},
   "outputs": [],
   "source": []
  },
  {
   "cell_type": "markdown",
   "metadata": {},
   "source": [
    "Create a Box-and-Whisker chart with the x-axis as the \"Gender\" and \"Cholestrol\" for y-axis."
   ]
  },
  {
   "cell_type": "code",
   "execution_count": null,
   "metadata": {},
   "outputs": [],
   "source": []
  },
  {
   "cell_type": "markdown",
   "metadata": {},
   "source": [
    "*****************************\n",
    "### Step 5 - Violin Chart and Bee-swarm Chart"
   ]
  },
  {
   "cell_type": "markdown",
   "metadata": {},
   "source": [
    "Using Seaborn, create a Violin chart. Use the \"ChestPain\" for the x-axis and \"Age\" for the y-axis."
   ]
  },
  {
   "cell_type": "code",
   "execution_count": null,
   "metadata": {},
   "outputs": [],
   "source": []
  },
  {
   "cell_type": "markdown",
   "metadata": {},
   "source": [
    "Using Seaborn, create a Bee-Swarm chart. Use the \"ChestPain\" for the x-axis and \"Age\" for the y-axis."
   ]
  },
  {
   "cell_type": "code",
   "execution_count": null,
   "metadata": {},
   "outputs": [],
   "source": []
  },
  {
   "cell_type": "markdown",
   "metadata": {},
   "source": [
    "Add the \"Gender\" variable as colors in the Bee-Swarm chart."
   ]
  },
  {
   "cell_type": "code",
   "execution_count": null,
   "metadata": {},
   "outputs": [],
   "source": []
  },
  {
   "cell_type": "markdown",
   "metadata": {},
   "source": [
    "Create a chart with a box plot and bee-swarm plot on the same chart using the \"ChestPain\" as x-axis and \"Age\" as y-axis."
   ]
  },
  {
   "cell_type": "code",
   "execution_count": null,
   "metadata": {},
   "outputs": [],
   "source": []
  },
  {
   "cell_type": "markdown",
   "metadata": {},
   "source": [
    "************************\n",
    "### Congratulations!!! you completed exercise 2. \n",
    "## End of document\n",
    "************************"
   ]
  }
 ],
 "metadata": {
  "kernelspec": {
   "display_name": "Python 3",
   "language": "python",
   "name": "python3"
  },
  "language_info": {
   "codemirror_mode": {
    "name": "ipython",
    "version": 3
   },
   "file_extension": ".py",
   "mimetype": "text/x-python",
   "name": "python",
   "nbconvert_exporter": "python",
   "pygments_lexer": "ipython3",
   "version": "3.7.6"
  }
 },
 "nbformat": 4,
 "nbformat_minor": 4
}
